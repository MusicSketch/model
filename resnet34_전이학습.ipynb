{
  "nbformat": 4,
  "nbformat_minor": 0,
  "metadata": {
    "colab": {
      "private_outputs": true,
      "provenance": []
    },
    "kernelspec": {
      "name": "python3",
      "display_name": "Python 3"
    },
    "language_info": {
      "name": "python"
    },
    "accelerator": "GPU",
    "gpuClass": "standard"
  },
  "cells": [
    {
      "cell_type": "code",
      "execution_count": null,
      "metadata": {
        "id": "4YdoSSoHLk1i"
      },
      "outputs": [],
      "source": [
        "#bing 에서 연예인 이미지 가져오기\n",
        "\n",
        "!git clone https://github.com/ndb796/bing_image_downloader"
      ]
    },
    {
      "cell_type": "code",
      "source": [
        "import os\n",
        "import shutil\n",
        "from bing_image_downloader.bing_image_downloader import downloader\n",
        "\n",
        "directory_list = [\n",
        "    './custom_dataset/train/',\n",
        "    './custom_dataset/test/',\n",
        "]\n",
        "\n",
        "#데이터셋 저장 디렉토리 생성\n",
        "for directory in directory_list:\n",
        "    if not os.path.isdir(directory):\n",
        "        os.makedirs(directory)\n"
      ],
      "metadata": {
        "id": "FTGpfdmkMt5k"
      },
      "execution_count": null,
      "outputs": []
    },
    {
      "cell_type": "code",
      "source": [
        "\n",
        "#수집한 데이터를 학습데이터와 평가데이터로 분류하는 함수\n",
        "\n",
        "def dataset_split(query , train_cnt):\n",
        "\n",
        "    for directory in directory_list:\n",
        "        if not os.path.isdir(directory + '/' + query):\n",
        "            os.makedirs(directory + '/' + query)\n",
        "\n",
        "\n",
        "    cnt = 0\n",
        "\n",
        "    for file_name in os.listdir(query):\n",
        "        if cnt < train_cnt:\n",
        "            print(f'[Train Dataset] {file_name} ')\n",
        "            shutil.move(query + '/' + file_name , './custom_dataset/train/'+query +'/' +file_name)\n",
        "        else:\n",
        "            print(f'[Test Dataset] {file_name} ')\n",
        "            shutil.move(query + '/' + file_name , './custom_dataset/test/'+query +'/' +file_name)\n",
        "        cnt += 1\n",
        "    \n",
        "    shutil.rmtree(query)"
      ],
      "metadata": {
        "id": "56d3K83nNq2t"
      },
      "execution_count": null,
      "outputs": []
    },
    {
      "cell_type": "code",
      "source": [
        "query = '카리나'\n",
        "downloader.download(query , limit=40, output_dir = './', adult_filter_off=True,force_replace=False,timeout=60)\n",
        "dataset_split(query,30)"
      ],
      "metadata": {
        "id": "k8LXZYWdQWix"
      },
      "execution_count": null,
      "outputs": []
    },
    {
      "cell_type": "code",
      "source": [
        "query = '마동석'\n",
        "downloader.download(query, limit=40,  output_dir='./', adult_filter_off=True, force_replace=False, timeout=60)\n",
        "dataset_split(query, 30)"
      ],
      "metadata": {
        "id": "HYeHconZRIRm"
      },
      "execution_count": null,
      "outputs": []
    },
    {
      "cell_type": "code",
      "source": [
        "query = '이국주'\n",
        "downloader.download(query, limit=40,  output_dir='./', adult_filter_off=True, force_replace=False, timeout=60)\n",
        "dataset_split(query, 30)"
      ],
      "metadata": {
        "id": "2fYFi7EPRlJQ"
      },
      "execution_count": null,
      "outputs": []
    },
    {
      "cell_type": "code",
      "source": [
        "import torch\n",
        "import torch.nn as nn\n",
        "import torch.optim as optim\n",
        "import torchvision\n",
        "from torchvision import datasets,models,transforms\n",
        "\n",
        "import numpy as np\n",
        "import time"
      ],
      "metadata": {
        "id": "32GzuzcUS5Zf"
      },
      "execution_count": null,
      "outputs": []
    },
    {
      "cell_type": "code",
      "source": [
        "device = torch.device('cuda' if torch.cuda.is_available() else 'cpu')"
      ],
      "metadata": {
        "id": "qkxYYbbiTPFx"
      },
      "execution_count": null,
      "outputs": []
    },
    {
      "cell_type": "code",
      "source": [
        "#데이터셋을 불러올때 상요할 변형정의\n",
        "transforms_train = transforms.Compose([\n",
        "    transforms.Resize((224,224)),\n",
        "    transforms.RandomHorizontalFlip(),\n",
        "    transforms.ToTensor(),\n",
        "    transforms.Normalize([0.485,0.456,0.406],[0.229,0.224,0.225])\n",
        "])\n",
        "\n",
        "transforms_test = transforms.Compose([\n",
        "    transforms.Resize((224,224)),\n",
        "    transforms.ToTensor(),\n",
        "    transforms.Normalize([0.485,0.456,0.406],[0.229,0.224,0.225])\n",
        "])"
      ],
      "metadata": {
        "id": "USi32mqOTnUV"
      },
      "execution_count": null,
      "outputs": []
    },
    {
      "cell_type": "code",
      "source": [
        "train_datasets = datasets.ImageFolder('./custom_dataset/train',transforms_train)\n",
        "test_datasets = datasets.ImageFolder('./custom_dataset/test',transforms_test)"
      ],
      "metadata": {
        "id": "rVCN8EqsTo-k"
      },
      "execution_count": null,
      "outputs": []
    },
    {
      "cell_type": "code",
      "source": [
        "train_dataloader = torch.utils.data.DataLoader(train_datasets,batch_size=4,shuffle=True,num_workers=2)\n",
        "test_dataloader = torch.utils.data.DataLoader(test_datasets,batch_size=4,shuffle=True,num_workers=2)\n",
        "\n",
        "print('학습데이터셋 크기 : ', len(train_datasets))\n",
        "print('테스트데이터셋 크기:',len(test_datasets))\n",
        "\n",
        "class_names = train_datasets.classes\n",
        "print('클래스:',class_names)"
      ],
      "metadata": {
        "id": "MD1P9ZKbVffx"
      },
      "execution_count": null,
      "outputs": []
    },
    {
      "cell_type": "code",
      "source": [],
      "metadata": {
        "id": "hhxuwHxnWSXi"
      },
      "execution_count": null,
      "outputs": []
    }
  ]
}